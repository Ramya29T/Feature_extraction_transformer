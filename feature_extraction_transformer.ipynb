{
  "cells": [
    {
      "cell_type": "code",
      "execution_count": 21,
      "metadata": {
        "id": "CWUOOSUnhIC2"
      },
      "outputs": [],
      "source": [
        "import torch\n",
        "import torch.nn as nn\n",
        "import pandas as pd\n",
        "from transformers import BertModel, BertConfig\n",
        "from sklearn.preprocessing import StandardScaler, LabelEncoder\n",
        "from torch.utils.data import DataLoader, TensorDataset\n",
        "\n",
        "\n",
        "data = pd.read_csv(\"/content/dataSample.csv\").round(2)\n",
        "\n",
        "FEATURES = [col for col in data.columns if col != \"decision\"]\n",
        "\n",
        "\n",
        "for col in [\"appName\", \"apMode\", \"cMode\"]:\n",
        "    if col in data.columns:\n",
        "        data[col] = LabelEncoder().fit_transform(data[col])\n",
        "\n",
        "scaler = StandardScaler()\n",
        "data[FEATURES] = scaler.fit_transform(data[FEATURES])\n",
        "\n",
        "X = torch.tensor(data[FEATURES].values, dtype=torch.float32)\n",
        "X = X.unsqueeze(-1)\n",
        "\n",
        "device = torch.device(\"cuda\" if torch.cuda.is_available() else \"cpu\")\n",
        "\n",
        "class BertFeatureExtractor(nn.Module):\n",
        "    def __init__(self, input_dim=1, hidden_dim=768, num_heads=12):\n",
        "        super(BertFeatureExtractor, self).__init__()\n",
        "\n",
        "        self.bert_config = BertConfig(\n",
        "            hidden_size=hidden_dim,\n",
        "            num_attention_heads=num_heads,\n",
        "            num_hidden_layers=4,\n",
        "            intermediate_size=hidden_dim * 4,\n",
        "        )\n",
        "        self.bert = BertModel(self.bert_config)\n",
        "\n",
        "        self.input_projection = nn.Linear(input_dim, hidden_dim)\n",
        "\n",
        "    def forward(self, x):\n",
        "        batch_size, seq_len, _ = x.shape\n",
        "        x = self.input_projection(x)\n",
        "\n",
        "        attention_mask = torch.ones(batch_size, seq_len).to(x.device)\n",
        "\n",
        "        outputs = self.bert(inputs_embeds=x, attention_mask=attention_mask, output_attentions=True)\n",
        "\n",
        "        return outputs.attentions\n",
        "\n",
        "\n",
        "model = BertFeatureExtractor().to(device)\n",
        "model.eval()\n",
        "\n",
        "batch_size = 32\n",
        "dataset = TensorDataset(X)\n",
        "dataloader = DataLoader(dataset, batch_size=batch_size, shuffle=False)\n",
        "\n",
        "\n",
        "total_feature_importance = torch.zeros(17, device=device)\n"
      ]
    },
    {
      "cell_type": "code",
      "execution_count": 20,
      "metadata": {
        "id": "DPktkgoSiO-G"
      },
      "outputs": [],
      "source": [
        "with torch.no_grad():\n",
        "    for batch in dataloader:\n",
        "        batch_x = batch[0].to(device)\n",
        "\n",
        "        attentions = model(batch_x)\n",
        "\n",
        "        last_layer_attention = attentions[-1]\n",
        "        feature_importance = last_layer_attention.mean(dim=1)\n",
        "        feature_importance = feature_importance.mean(dim=2)\n",
        "\n",
        "        total_feature_importance += feature_importance.sum(dim=0)\n",
        "\n"
      ]
    },
    {
      "cell_type": "code",
      "execution_count": 23,
      "metadata": {
        "colab": {
          "base_uri": "https://localhost:8080/"
        },
        "id": "4-rJ0kcnieLI",
        "outputId": "f5bc50b3-940e-4b1e-df6b-aa090a12a8e4"
      },
      "outputs": [
        {
          "name": "stdout",
          "output_type": "stream",
          "text": [
            "Feature importance saved to feature_importance.csv\n"
          ]
        }
      ],
      "source": [
        "total_feature_importance /= len(data)\n",
        "\n",
        "feature_importance_df = pd.DataFrame({\"Feature\": FEATURES, \"Importance\": total_feature_importance.cpu().numpy()})\n",
        "feature_importance_df.to_csv(\"feature_importance.csv\", index=False)\n",
        "\n",
        "print(\"Feature importance saved to feature_importance.csv\")\n"
      ]
    },
    {
      "cell_type": "code",
      "execution_count": null,
      "metadata": {
        "id": "hEFH765eirM6"
      },
      "outputs": [],
      "source": []
    }
  ],
  "metadata": {
    "accelerator": "GPU",
    "colab": {
      "gpuType": "T4",
      "provenance": []
    },
    "kernelspec": {
      "display_name": "Python 3",
      "name": "python3"
    },
    "language_info": {
      "name": "python"
    }
  },
  "nbformat": 4,
  "nbformat_minor": 0
}
